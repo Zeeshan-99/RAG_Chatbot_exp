{
 "cells": [
  {
   "cell_type": "code",
   "execution_count": 7,
   "metadata": {},
   "outputs": [
    {
     "name": "stderr",
     "output_type": "stream",
     "text": [
      "I0000 00:00:1722235955.148095 1121641 check_gcp_environment_no_op.cc:29] ALTS: Platforms other than Linux and Windows are not supported\n"
     ]
    },
    {
     "name": "stdout",
     "output_type": "stream",
     "text": [
      "In the sun-drenched meadow, where verdant blades of grass danced in the gentle breeze, a fierce battle was about to unfold. The air was thick with anticipation as the teams took their positions, each armed with nothing more than a willow bat and a leather ball.\n",
      "\n",
      "Leading the charge were two titans of the game: Captain Arjun, a fiery batsman with lightning-fast reflexes, and Captain Vikram, a cunning bowler whose deceptive spin could bamboozle the best.\n",
      "\n",
      "The match commenced with Arjun striding to the crease, his eyes fixed firmly on the ball. Vikram, sensing his opponent's intensity, unleashed his first delivery, a wicked googly that swerved sharply towards the batsman. Time seemed to slow down as the ball hurtled towards Arjun's swinging blade. With a crisp crack, the bat made contact, sending the ball soaring high into the sky.\n",
      "\n",
      "As the ball descended back to earth, a hush fell over the crowd. Fielders raced to catch it, but the elusive leather orb continued its journey, landing safely over the boundary ropes for a resounding six. The roar of the crowd shook the ground, propelling Arjun to even greater heights.\n",
      "\n",
      "Over after over, the battle raged on. Vikram's bowlers deployed a barrage of spin, pace, and swing, but Arjun remained unyielding, unleashing a flurry of boundaries that kept the scoreboard ticking over. On the other side of the coin, Vikram's batsmen struggled to find their rhythm against Arjun's relentless bowling.\n",
      "\n",
      "As the innings drew to a close, the tension mounted with every ball. With just one over remaining, Vikram's team needed an improbable 20 runs to snatch victory. Desperation filled the air as the last batsman, a tailender named Ravi, faced Arjun.\n",
      "\n",
      "Ravi's heart pounded in his chest as the ball left Arjun's hand. Time seemed to stand still as he watched it sail towards him. Summoning all his courage, Ravi swung with all his might. The ball connected with the sweet spot of his bat, sending it soaring over the midwicket boundary.\n",
      "\n",
      "Pandemonium erupted as the crowd erupted in a chorus of cheers. Ravi had done it! He had hit the winning runs, securing a dramatic victory for his team.\n",
      "\n",
      "In the aftermath of the match, there was a newfound respect between the two captains. They had fought valiantly, and both had emerged as true warriors of the game. As the sun began to set, casting a golden glow over the meadow, the players gathered at the center, shaking hands and acknowledging the spirit of competition.\n",
      "\n",
      "And so, the tale of the epic cricket match was passed down through generations, a reminder that even in the face of adversity, the allure of victory and the bonds of sportsmanship prevail.\n"
     ]
    }
   ],
   "source": [
    "import os\n",
    "import google.generativeai as genai\n",
    "from dotenv import  load_dotenv\n",
    "# Load environment variables from .env file\n",
    "load_dotenv()\n",
    "api_key = os.getenv('GOOGLE_API_KEY')\n",
    "# Access your API key as an environment variable.\n",
    "genai.configure(api_key=os.getenv('GOOGLE_API_KEY'))\n",
    "# # Choose a model that's appropriate for your use case.\n",
    "model = genai.GenerativeModel('gemini-pro')\n",
    "\n",
    "prompt = \"Write a story about cricket.\"\n",
    "\n",
    "response = model.generate_content(prompt)\n",
    "\n",
    "print(response.text)"
   ]
  }
 ],
 "metadata": {
  "kernelspec": {
   "display_name": "LangChain",
   "language": "python",
   "name": "langchain"
  },
  "language_info": {
   "codemirror_mode": {
    "name": "ipython",
    "version": 3
   },
   "file_extension": ".py",
   "mimetype": "text/x-python",
   "name": "python",
   "nbconvert_exporter": "python",
   "pygments_lexer": "ipython3",
   "version": "3.11.9"
  }
 },
 "nbformat": 4,
 "nbformat_minor": 2
}
